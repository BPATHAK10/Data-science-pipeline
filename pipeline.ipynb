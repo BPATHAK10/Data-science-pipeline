{
 "cells": [
  {
   "attachments": {},
   "cell_type": "markdown",
   "metadata": {},
   "source": [
    "# Data Science Pipeline"
   ]
  },
  {
   "cell_type": "code",
   "execution_count": 40,
   "metadata": {},
   "outputs": [],
   "source": [
    "import pandas as pd\n",
    "import numpy as np\n",
    "import matplotlib.pyplot as plt\n",
    "import seaborn as sns\n",
    "import json\n",
    "import matplotlib.ticker as ticker\n",
    "from datetime import datetime\n",
    "\n",
    "import pandas as pd\n",
    "from sklearn.preprocessing import OneHotEncoder\n",
    "from sklearn.feature_extraction.text import CountVectorizer\n",
    "from sklearn.feature_extraction.text import TfidfVectorizer\n",
    "import nltk\n",
    "from nltk.corpus import stopwords\n",
    "from nltk.stem import PorterStemmer\n",
    "\n",
    "import scipy.sparse\n",
    "from scipy.sparse import hstack\n",
    "\n",
    "from sklearn.model_selection import train_test_split\n",
    "from sklearn.feature_extraction.text import CountVectorizer, TfidfVectorizer\n",
    "from sklearn.ensemble import RandomForestRegressor\n",
    "from sklearn.metrics import mean_squared_error, mean_absolute_error, r2_score"
   ]
  },
  {
   "attachments": {},
   "cell_type": "markdown",
   "metadata": {},
   "source": [
    "## Data Collection"
   ]
  },
  {
   "cell_type": "code",
   "execution_count": 41,
   "metadata": {},
   "outputs": [],
   "source": [
    "df_vids = pd.read_csv(\"./dataset/Trending YouTube Video Statistics/USvideos.csv\", encoding=\"utf-8\")"
   ]
  },
  {
   "cell_type": "code",
   "execution_count": 42,
   "metadata": {},
   "outputs": [],
   "source": [
    "with open(\"./dataset/Trending YouTube Video Statistics/US_category_id.json\") as f:\n",
    "    data = json.load(f)\n",
    "    \n",
    "categories = data['items']"
   ]
  },
  {
   "cell_type": "code",
   "execution_count": 43,
   "metadata": {},
   "outputs": [],
   "source": [
    "df_categories = pd.DataFrame(categories)\n",
    "\n",
    "# Flatten the 'snippet' column into separate columns\n",
    "df_normalized = pd.json_normalize(df_categories['snippet'])\n",
    "\n",
    "# Concatenate the normalized DataFrame with the original DataFrame\n",
    "df_cat = pd.concat([df_categories, df_normalized], axis=1)\n",
    "\n",
    "# Remove the original 'snippet' column\n",
    "df_cat = df_cat.drop('snippet', axis=1)"
   ]
  },
  {
   "attachments": {},
   "cell_type": "markdown",
   "metadata": {},
   "source": [
    "## Data Preprocessing"
   ]
  },
  {
   "attachments": {},
   "cell_type": "markdown",
   "metadata": {},
   "source": [
    "### Drop unnecessary cols"
   ]
  },
  {
   "cell_type": "code",
   "execution_count": 44,
   "metadata": {},
   "outputs": [],
   "source": [
    "df_vids.drop(columns=[\"thumbnail_link\"\t,\"tags\",\"comments_disabled\"\t,\"ratings_disabled\"\t,\"video_error_or_removed\"], axis=1, inplace=True)\n",
    "df_cat.drop(columns=['kind','etag','assignable','channelId'], axis=1, inplace=True)"
   ]
  },
  {
   "cell_type": "code",
   "execution_count": 45,
   "metadata": {},
   "outputs": [],
   "source": [
    "df_vids['category_id'] = df_vids['category_id'].astype(str)"
   ]
  },
  {
   "cell_type": "code",
   "execution_count": 46,
   "metadata": {},
   "outputs": [],
   "source": [
    "df = df_vids.merge(df_cat, how='inner', left_on='category_id', right_on='id')\n",
    "df = df.drop(columns=['id'])\n"
   ]
  },
  {
   "cell_type": "code",
   "execution_count": 47,
   "metadata": {},
   "outputs": [],
   "source": [
    "# renaming the cols\n",
    "df.rename(columns={\n",
    "    'title_x': 'vid_title',\n",
    "    'title_y': 'cat_title'\n",
    "},inplace=True)"
   ]
  },
  {
   "attachments": {},
   "cell_type": "markdown",
   "metadata": {},
   "source": [
    "### Remove null and duplicates"
   ]
  },
  {
   "cell_type": "code",
   "execution_count": 48,
   "metadata": {},
   "outputs": [],
   "source": [
    "df = df.dropna()\n",
    "df = df.drop_duplicates()"
   ]
  },
  {
   "cell_type": "code",
   "execution_count": 49,
   "metadata": {},
   "outputs": [],
   "source": [
    "# Converting 'trending_date' and 'publish_time' to datetime format\n",
    "df['trending_date'] = pd.to_datetime(df['trending_date'], format='%y.%d.%m')\n",
    "df['publish_time'] = pd.to_datetime(df['publish_time'])"
   ]
  },
  {
   "cell_type": "code",
   "execution_count": 50,
   "metadata": {},
   "outputs": [],
   "source": [
    "# Applying text cleaning to relevant columns\n",
    "df['vid_title'] = df['vid_title'].apply(lambda x: x.lower())\n",
    "df['channel_title'] = df['channel_title'].apply(lambda x: x.lower())\n",
    "df['cat_title'] = df['cat_title'].apply(lambda x: x.lower())"
   ]
  },
  {
   "cell_type": "code",
   "execution_count": 51,
   "metadata": {},
   "outputs": [
    {
     "name": "stdout",
     "output_type": "stream",
     "text": [
      "<class 'pandas.core.frame.DataFrame'>\n",
      "Int64Index: 40332 entries, 0 to 40948\n",
      "Data columns (total 12 columns):\n",
      " #   Column         Non-Null Count  Dtype              \n",
      "---  ------         --------------  -----              \n",
      " 0   video_id       40332 non-null  object             \n",
      " 1   trending_date  40332 non-null  datetime64[ns]     \n",
      " 2   vid_title      40332 non-null  object             \n",
      " 3   channel_title  40332 non-null  object             \n",
      " 4   category_id    40332 non-null  object             \n",
      " 5   publish_time   40332 non-null  datetime64[ns, UTC]\n",
      " 6   views          40332 non-null  int64              \n",
      " 7   likes          40332 non-null  int64              \n",
      " 8   dislikes       40332 non-null  int64              \n",
      " 9   comment_count  40332 non-null  int64              \n",
      " 10  description    40332 non-null  object             \n",
      " 11  cat_title      40332 non-null  object             \n",
      "dtypes: datetime64[ns, UTC](1), datetime64[ns](1), int64(4), object(6)\n",
      "memory usage: 4.0+ MB\n"
     ]
    }
   ],
   "source": [
    "df.info()"
   ]
  },
  {
   "cell_type": "code",
   "execution_count": 52,
   "metadata": {},
   "outputs": [
    {
     "data": {
      "text/html": [
       "<div>\n",
       "<style scoped>\n",
       "    .dataframe tbody tr th:only-of-type {\n",
       "        vertical-align: middle;\n",
       "    }\n",
       "\n",
       "    .dataframe tbody tr th {\n",
       "        vertical-align: top;\n",
       "    }\n",
       "\n",
       "    .dataframe thead th {\n",
       "        text-align: right;\n",
       "    }\n",
       "</style>\n",
       "<table border=\"1\" class=\"dataframe\">\n",
       "  <thead>\n",
       "    <tr style=\"text-align: right;\">\n",
       "      <th></th>\n",
       "      <th>views</th>\n",
       "      <th>likes</th>\n",
       "      <th>dislikes</th>\n",
       "      <th>comment_count</th>\n",
       "    </tr>\n",
       "  </thead>\n",
       "  <tbody>\n",
       "    <tr>\n",
       "      <th>count</th>\n",
       "      <td>4.033200e+04</td>\n",
       "      <td>4.033200e+04</td>\n",
       "      <td>4.033200e+04</td>\n",
       "      <td>4.033200e+04</td>\n",
       "    </tr>\n",
       "    <tr>\n",
       "      <th>mean</th>\n",
       "      <td>2.370824e+06</td>\n",
       "      <td>7.462234e+04</td>\n",
       "      <td>3.508185e+03</td>\n",
       "      <td>8.289092e+03</td>\n",
       "    </tr>\n",
       "    <tr>\n",
       "      <th>std</th>\n",
       "      <td>7.432121e+06</td>\n",
       "      <td>2.297311e+05</td>\n",
       "      <td>2.318773e+04</td>\n",
       "      <td>3.433488e+04</td>\n",
       "    </tr>\n",
       "    <tr>\n",
       "      <th>min</th>\n",
       "      <td>5.490000e+02</td>\n",
       "      <td>0.000000e+00</td>\n",
       "      <td>0.000000e+00</td>\n",
       "      <td>0.000000e+00</td>\n",
       "    </tr>\n",
       "    <tr>\n",
       "      <th>25%</th>\n",
       "      <td>2.466670e+05</td>\n",
       "      <td>5.615500e+03</td>\n",
       "      <td>2.040000e+02</td>\n",
       "      <td>6.230000e+02</td>\n",
       "    </tr>\n",
       "    <tr>\n",
       "      <th>50%</th>\n",
       "      <td>6.884230e+05</td>\n",
       "      <td>1.835150e+04</td>\n",
       "      <td>6.360000e+02</td>\n",
       "      <td>1.873000e+03</td>\n",
       "    </tr>\n",
       "    <tr>\n",
       "      <th>75%</th>\n",
       "      <td>1.832174e+06</td>\n",
       "      <td>5.563025e+04</td>\n",
       "      <td>1.945250e+03</td>\n",
       "      <td>5.785000e+03</td>\n",
       "    </tr>\n",
       "    <tr>\n",
       "      <th>max</th>\n",
       "      <td>2.252119e+08</td>\n",
       "      <td>5.613827e+06</td>\n",
       "      <td>1.643059e+06</td>\n",
       "      <td>1.228655e+06</td>\n",
       "    </tr>\n",
       "  </tbody>\n",
       "</table>\n",
       "</div>"
      ],
      "text/plain": [
       "              views         likes      dislikes  comment_count\n",
       "count  4.033200e+04  4.033200e+04  4.033200e+04   4.033200e+04\n",
       "mean   2.370824e+06  7.462234e+04  3.508185e+03   8.289092e+03\n",
       "std    7.432121e+06  2.297311e+05  2.318773e+04   3.433488e+04\n",
       "min    5.490000e+02  0.000000e+00  0.000000e+00   0.000000e+00\n",
       "25%    2.466670e+05  5.615500e+03  2.040000e+02   6.230000e+02\n",
       "50%    6.884230e+05  1.835150e+04  6.360000e+02   1.873000e+03\n",
       "75%    1.832174e+06  5.563025e+04  1.945250e+03   5.785000e+03\n",
       "max    2.252119e+08  5.613827e+06  1.643059e+06   1.228655e+06"
      ]
     },
     "execution_count": 52,
     "metadata": {},
     "output_type": "execute_result"
    }
   ],
   "source": [
    "df.describe()"
   ]
  },
  {
   "cell_type": "code",
   "execution_count": 53,
   "metadata": {},
   "outputs": [
    {
     "data": {
      "text/html": [
       "<div>\n",
       "<style scoped>\n",
       "    .dataframe tbody tr th:only-of-type {\n",
       "        vertical-align: middle;\n",
       "    }\n",
       "\n",
       "    .dataframe tbody tr th {\n",
       "        vertical-align: top;\n",
       "    }\n",
       "\n",
       "    .dataframe thead th {\n",
       "        text-align: right;\n",
       "    }\n",
       "</style>\n",
       "<table border=\"1\" class=\"dataframe\">\n",
       "  <thead>\n",
       "    <tr style=\"text-align: right;\">\n",
       "      <th></th>\n",
       "      <th>video_id</th>\n",
       "      <th>trending_date</th>\n",
       "      <th>vid_title</th>\n",
       "      <th>channel_title</th>\n",
       "      <th>category_id</th>\n",
       "      <th>publish_time</th>\n",
       "      <th>views</th>\n",
       "      <th>likes</th>\n",
       "      <th>dislikes</th>\n",
       "      <th>comment_count</th>\n",
       "      <th>description</th>\n",
       "      <th>cat_title</th>\n",
       "    </tr>\n",
       "  </thead>\n",
       "  <tbody>\n",
       "    <tr>\n",
       "      <th>0</th>\n",
       "      <td>2kyS6SvSYSE</td>\n",
       "      <td>2017-11-14</td>\n",
       "      <td>we want to talk about our marriage</td>\n",
       "      <td>caseyneistat</td>\n",
       "      <td>22</td>\n",
       "      <td>2017-11-13 17:13:01+00:00</td>\n",
       "      <td>748374</td>\n",
       "      <td>57527</td>\n",
       "      <td>2966</td>\n",
       "      <td>15954</td>\n",
       "      <td>SHANTELL'S CHANNEL - https://www.youtube.com/s...</td>\n",
       "      <td>people &amp; blogs</td>\n",
       "    </tr>\n",
       "    <tr>\n",
       "      <th>1</th>\n",
       "      <td>0mlNzVSJrT0</td>\n",
       "      <td>2017-11-14</td>\n",
       "      <td>me-o cats commercial</td>\n",
       "      <td>nobrand</td>\n",
       "      <td>22</td>\n",
       "      <td>2017-04-21 06:47:32+00:00</td>\n",
       "      <td>98966</td>\n",
       "      <td>2486</td>\n",
       "      <td>184</td>\n",
       "      <td>532</td>\n",
       "      <td>Kittens come out of the eggs in a Thai commerc...</td>\n",
       "      <td>people &amp; blogs</td>\n",
       "    </tr>\n",
       "    <tr>\n",
       "      <th>2</th>\n",
       "      <td>STI2fI7sKMo</td>\n",
       "      <td>2017-11-14</td>\n",
       "      <td>affairs, ex boyfriends, $18million net worth -...</td>\n",
       "      <td>shawn johnson east</td>\n",
       "      <td>22</td>\n",
       "      <td>2017-11-11 15:00:03+00:00</td>\n",
       "      <td>321053</td>\n",
       "      <td>4451</td>\n",
       "      <td>1772</td>\n",
       "      <td>895</td>\n",
       "      <td>Subscribe for weekly videos ▶ http://bit.ly/sj...</td>\n",
       "      <td>people &amp; blogs</td>\n",
       "    </tr>\n",
       "    <tr>\n",
       "      <th>3</th>\n",
       "      <td>KODzih-pYlU</td>\n",
       "      <td>2017-11-14</td>\n",
       "      <td>blind(folded) cake decorating contest (with mo...</td>\n",
       "      <td>grace helbig</td>\n",
       "      <td>22</td>\n",
       "      <td>2017-11-11 18:08:04+00:00</td>\n",
       "      <td>197062</td>\n",
       "      <td>7250</td>\n",
       "      <td>217</td>\n",
       "      <td>456</td>\n",
       "      <td>Molly is an god damn amazing human and she cha...</td>\n",
       "      <td>people &amp; blogs</td>\n",
       "    </tr>\n",
       "    <tr>\n",
       "      <th>4</th>\n",
       "      <td>8mhTWqWlQzU</td>\n",
       "      <td>2017-11-14</td>\n",
       "      <td>wearing online dollar store makeup for a week</td>\n",
       "      <td>safiya nygaard</td>\n",
       "      <td>22</td>\n",
       "      <td>2017-11-11 01:19:33+00:00</td>\n",
       "      <td>2744430</td>\n",
       "      <td>115426</td>\n",
       "      <td>1110</td>\n",
       "      <td>6541</td>\n",
       "      <td>I found this online dollar store called ShopMi...</td>\n",
       "      <td>people &amp; blogs</td>\n",
       "    </tr>\n",
       "  </tbody>\n",
       "</table>\n",
       "</div>"
      ],
      "text/plain": [
       "      video_id trending_date  \\\n",
       "0  2kyS6SvSYSE    2017-11-14   \n",
       "1  0mlNzVSJrT0    2017-11-14   \n",
       "2  STI2fI7sKMo    2017-11-14   \n",
       "3  KODzih-pYlU    2017-11-14   \n",
       "4  8mhTWqWlQzU    2017-11-14   \n",
       "\n",
       "                                           vid_title       channel_title  \\\n",
       "0                 we want to talk about our marriage        caseyneistat   \n",
       "1                               me-o cats commercial             nobrand   \n",
       "2  affairs, ex boyfriends, $18million net worth -...  shawn johnson east   \n",
       "3  blind(folded) cake decorating contest (with mo...        grace helbig   \n",
       "4      wearing online dollar store makeup for a week      safiya nygaard   \n",
       "\n",
       "  category_id              publish_time    views   likes  dislikes  \\\n",
       "0          22 2017-11-13 17:13:01+00:00   748374   57527      2966   \n",
       "1          22 2017-04-21 06:47:32+00:00    98966    2486       184   \n",
       "2          22 2017-11-11 15:00:03+00:00   321053    4451      1772   \n",
       "3          22 2017-11-11 18:08:04+00:00   197062    7250       217   \n",
       "4          22 2017-11-11 01:19:33+00:00  2744430  115426      1110   \n",
       "\n",
       "   comment_count                                        description  \\\n",
       "0          15954  SHANTELL'S CHANNEL - https://www.youtube.com/s...   \n",
       "1            532  Kittens come out of the eggs in a Thai commerc...   \n",
       "2            895  Subscribe for weekly videos ▶ http://bit.ly/sj...   \n",
       "3            456  Molly is an god damn amazing human and she cha...   \n",
       "4           6541  I found this online dollar store called ShopMi...   \n",
       "\n",
       "        cat_title  \n",
       "0  people & blogs  \n",
       "1  people & blogs  \n",
       "2  people & blogs  \n",
       "3  people & blogs  \n",
       "4  people & blogs  "
      ]
     },
     "execution_count": 53,
     "metadata": {},
     "output_type": "execute_result"
    }
   ],
   "source": [
    "df.head()"
   ]
  },
  {
   "attachments": {},
   "cell_type": "markdown",
   "metadata": {},
   "source": [
    "## Data Visualization"
   ]
  },
  {
   "attachments": {},
   "cell_type": "markdown",
   "metadata": {},
   "source": [
    "### Category Analysis"
   ]
  },
  {
   "cell_type": "code",
   "execution_count": 59,
   "metadata": {},
   "outputs": [
    {
     "data": {
      "image/png": "[encoded data removed]",
      "text/plain": [
       "<Figure size 1200x800 with 1 Axes>"
      ]
     },
     "metadata": {},
     "output_type": "display_data"
    }
   ],
   "source": [
    "latest_data = df[df['trending_date'] == df['trending_date'].max()]\n",
    "\n",
    "# Count the number of videos in each category\n",
    "category_counts = latest_data['cat_title'].value_counts()\n",
    "\n",
    "# Create a bar plot using seaborn\n",
    "plt.figure(figsize=(12, 8))\n",
    "sns.barplot(x=category_counts.index, y=category_counts.values, palette='viridis')\n",
    "\n",
    "# Rotate x-axis labels for better readability\n",
    "plt.xticks(rotation=45, ha='right')\n",
    "\n",
    "# Set labels and title\n",
    "plt.xlabel('Category of video', fontsize=12)\n",
    "plt.ylabel('Number of trending videos', fontsize=12)\n",
    "plt.title('Distribution of Videos by Category', fontsize=14)\n",
    "\n",
    "# Adjust plot layout to prevent x-axis labels from overlapping\n",
    "plt.tight_layout()\n",
    "\n",
    "# Display the plot\n",
    "plt.show()\n"
   ]
  },
  {
   "attachments": {},
   "cell_type": "markdown",
   "metadata": {},
   "source": [
    "### Trend Analysis"
   ]
  },
  {
   "cell_type": "code",
   "execution_count": 60,
   "metadata": {},
   "outputs": [],
   "source": [
    "# selecting a particular video to perform analysis\n",
    "vid_id = df['video_id'][0]\n",
    "vid_df = df[df['video_id']==vid_id]\n",
    "video_title = vid_df['vid_title'].unique()[0]\n"
   ]
  },
  {
   "cell_type": "code",
   "execution_count": 61,
   "metadata": {},
   "outputs": [
    {
     "data": {
      "image/png": "[encoded data removed]",
      "text/plain": [
       "<Figure size 1200x600 with 1 Axes>"
      ]
     },
     "metadata": {},
     "output_type": "display_data"
    }
   ],
   "source": [
    "# Group the data by trending date and calculate the sum of views, likes, dislikes, or comment count\n",
    "trend_data = vid_df.groupby('trending_date')['views'].sum()  # Replace 'views' with the desired column\n",
    "\n",
    "# Create a line chart\n",
    "plt.figure(figsize=(12, 6))\n",
    "plt.plot(trend_data.index, trend_data.values, marker='o', linestyle='-', color='blue')\n",
    "\n",
    "# Set labels and title\n",
    "plt.xlabel('Trending Date', fontsize=12)\n",
    "plt.ylabel('Views', fontsize=12)\n",
    "plt.title(f'Trend Analysis: Number of Views over Time for the video \\\"{video_title}\\\"', fontsize=14)\n",
    "\n",
    "# Rotate x-axis labels for better readability (optional)\n",
    "plt.xticks(rotation=45, ha='right')\n",
    "\n",
    "plt.gca().yaxis.set_major_formatter(ticker.StrMethodFormatter('{x:,.0f}'))  # Format as comma-separated integers\n",
    "\n",
    "# Display the plot\n",
    "plt.tight_layout()\n",
    "plt.show()\n"
   ]
  },
  {
   "cell_type": "code",
   "execution_count": 62,
   "metadata": {},
   "outputs": [],
   "source": [
    "# df = df.sample(frac=0.1)"
   ]
  },
  {
   "attachments": {},
   "cell_type": "markdown",
   "metadata": {},
   "source": [
    "## Feature Engineering"
   ]
  },
  {
   "cell_type": "code",
   "execution_count": 65,
   "metadata": {},
   "outputs": [],
   "source": [
    "# Extract useful information from publish_time\n",
    "df['publish_day_of_week'] = df['publish_time'].dt.dayofweek\n",
    "df['publish_hour_of_day'] = df['publish_time'].dt.hour\n",
    "\n",
    "# Convert catergory_id to int\n",
    "df['category_id'] = df['category_id'].astype(int)\n"
   ]
  },
  {
   "cell_type": "code",
   "execution_count": 67,
   "metadata": {},
   "outputs": [
    {
     "name": "stderr",
     "output_type": "stream",
     "text": [
      "[nltk_data] Downloading package stopwords to\n",
      "[nltk_data]     /home/bpathak10/nltk_data...\n",
      "[nltk_data]   Package stopwords is already up-to-date!\n"
     ]
    }
   ],
   "source": [
    "\n",
    "# Perform text preprocessing on video title and description\n",
    "nltk.download('stopwords')\n",
    "stop_words = set(stopwords.words('english'))\n",
    "stemmer = PorterStemmer()\n",
    "\n",
    "def preprocess_text(text):\n",
    "    # Remove punctuation, convert to lowercase, and split into words\n",
    "    words = nltk.word_tokenize(text.lower())\n",
    "    # Remove stop words\n",
    "    words = [word for word in words if word not in stop_words]\n",
    "    # Perform stemming/lemmatization\n",
    "    words = [stemmer.stem(word) for word in words]\n",
    "    # Join the words back into a string\n",
    "    preprocessed_text = ' '.join(words)\n",
    "    return preprocessed_text\n",
    "\n",
    "df['vid_title_preprocessed'] = df['vid_title'].apply(preprocess_text)\n",
    "df['description_preprocessed'] = df['description'].apply(preprocess_text)\n"
   ]
  },
  {
   "attachments": {},
   "cell_type": "markdown",
   "metadata": {},
   "source": [
    "### Save the data ready to train"
   ]
  },
  {
   "cell_type": "code",
   "execution_count": 68,
   "metadata": {},
   "outputs": [],
   "source": [
    "df.to_csv(\"train_data.csv\",index=False)"
   ]
  },
  {
   "attachments": {},
   "cell_type": "markdown",
   "metadata": {},
   "source": [
    "### Upload the processed csv file to azure"
   ]
  },
  {
   "cell_type": "code",
   "execution_count": null,
   "metadata": {},
   "outputs": [],
   "source": [
    "from azure.storage.blob import BlobServiceClient, BlobClient, ContainerClient\n",
    "\n",
    "connect_str = \"\"\n",
    "blob_service_client = BlobServiceClient.from_connection_string(connect_str)\n",
    "\n",
    "container_name = \"azureml\"\n",
    "blob_client = blob_service_client.get_blob_client(container=container_name, blob=\"cleaned_data\")\n",
    "\n",
    "with open(\"train_data.csv\", \"rb\") as data:\n",
    "    await blob_client.upload_blob(data)"
   ]
  },
  {
   "attachments": {},
   "cell_type": "markdown",
   "metadata": {},
   "source": [
    "### Data split"
   ]
  },
  {
   "cell_type": "code",
   "execution_count": 69,
   "metadata": {},
   "outputs": [],
   "source": [
    "# Split the dataset into training and testing sets\n",
    "X_text = df[['vid_title_preprocessed', 'description_preprocessed']]\n",
    "X_numeric = df[['publish_day_of_week','publish_hour_of_day','likes','dislikes','comment_count','category_id']] \n",
    "y = df['views'] \n",
    "\n",
    "X_text_train, X_text_test, X_numeric_train, X_numeric_test, y_train, y_test = train_test_split(X_text, X_numeric, y, test_size=0.2, random_state=42)\n",
    "\n",
    "# Apply CountVectorizer on text features\n",
    "count_vectorizer = CountVectorizer()\n",
    "title_bow_train = count_vectorizer.fit_transform(X_text_train['vid_title_preprocessed'])\n",
    "description_bow_train = count_vectorizer.transform(X_text_train['description_preprocessed'])\n",
    "\n",
    "title_bow_test = count_vectorizer.transform(X_text_test['vid_title_preprocessed'])\n",
    "description_bow_test = count_vectorizer.transform(X_text_test['description_preprocessed'])\n",
    "\n",
    "# Apply TfidfVectorizer on text features\n",
    "tfidf_vectorizer = TfidfVectorizer()\n",
    "title_tfidf_train = tfidf_vectorizer.fit_transform(X_text_train['vid_title_preprocessed'])\n",
    "description_tfidf_train = tfidf_vectorizer.transform(X_text_train['description_preprocessed'])\n",
    "\n",
    "title_tfidf_test = tfidf_vectorizer.transform(X_text_test['vid_title_preprocessed'])\n",
    "description_tfidf_test = tfidf_vectorizer.transform(X_text_test['description_preprocessed'])\n"
   ]
  },
  {
   "attachments": {},
   "cell_type": "markdown",
   "metadata": {},
   "source": [
    "## Model selection"
   ]
  },
  {
   "cell_type": "code",
   "execution_count": 70,
   "metadata": {},
   "outputs": [],
   "source": [
    "# Concatenate the numeric features with the text features\n",
    "X_train = scipy.sparse.hstack((title_bow_train, description_bow_train, title_tfidf_train, description_tfidf_train, X_numeric_train))\n",
    "X_test = scipy.sparse.hstack((title_bow_test, description_bow_test, title_tfidf_test, description_tfidf_test, X_numeric_test))\n",
    "\n",
    "# Select a predictive model\n",
    "model = RandomForestRegressor(verbose=1)"
   ]
  },
  {
   "attachments": {},
   "cell_type": "markdown",
   "metadata": {},
   "source": [
    "## Model Training"
   ]
  },
  {
   "cell_type": "code",
   "execution_count": 71,
   "metadata": {},
   "outputs": [
    {
     "name": "stderr",
     "output_type": "stream",
     "text": [
      "[Parallel(n_jobs=1)]: Using backend SequentialBackend with 1 concurrent workers.\n",
      "[Parallel(n_jobs=1)]: Done 100 out of 100 | elapsed: 72.0min finished\n"
     ]
    },
    {
     "data": {
      "text/html": [
       "<style>#sk-container-id-2 {color: black;background-color: white;}#sk-container-id-2 pre{padding: 0;}#sk-container-id-2 div.sk-toggleable {background-color: white;}#sk-container-id-2 label.sk-toggleable__label {cursor: pointer;display: block;width: 100%;margin-bottom: 0;padding: 0.3em;box-sizing: border-box;text-align: center;}#sk-container-id-2 label.sk-toggleable__label-arrow:before {content: \"▸\";float: left;margin-right: 0.25em;color: #696969;}#sk-container-id-2 label.sk-toggleable__label-arrow:hover:before {color: black;}#sk-container-id-2 div.sk-estimator:hover label.sk-toggleable__label-arrow:before {color: black;}#sk-container-id-2 div.sk-toggleable__content {max-height: 0;max-width: 0;overflow: hidden;text-align: left;background-color: #f0f8ff;}#sk-container-id-2 div.sk-toggleable__content pre {margin: 0.2em;color: black;border-radius: 0.25em;background-color: #f0f8ff;}#sk-container-id-2 input.sk-toggleable__control:checked~div.sk-toggleable__content {max-height: 200px;max-width: 100%;overflow: auto;}#sk-container-id-2 input.sk-toggleable__control:checked~label.sk-toggleable__label-arrow:before {content: \"▾\";}#sk-container-id-2 div.sk-estimator input.sk-toggleable__control:checked~label.sk-toggleable__label {background-color: #d4ebff;}#sk-container-id-2 div.sk-label input.sk-toggleable__control:checked~label.sk-toggleable__label {background-color: #d4ebff;}#sk-container-id-2 input.sk-hidden--visually {border: 0;clip: rect(1px 1px 1px 1px);clip: rect(1px, 1px, 1px, 1px);height: 1px;margin: -1px;overflow: hidden;padding: 0;position: absolute;width: 1px;}#sk-container-id-2 div.sk-estimator {font-family: monospace;background-color: #f0f8ff;border: 1px dotted black;border-radius: 0.25em;box-sizing: border-box;margin-bottom: 0.5em;}#sk-container-id-2 div.sk-estimator:hover {background-color: #d4ebff;}#sk-container-id-2 div.sk-parallel-item::after {content: \"\";width: 100%;border-bottom: 1px solid gray;flex-grow: 1;}#sk-container-id-2 div.sk-label:hover label.sk-toggleable__label {background-color: #d4ebff;}#sk-container-id-2 div.sk-serial::before {content: \"\";position: absolute;border-left: 1px solid gray;box-sizing: border-box;top: 0;bottom: 0;left: 50%;z-index: 0;}#sk-container-id-2 div.sk-serial {display: flex;flex-direction: column;align-items: center;background-color: white;padding-right: 0.2em;padding-left: 0.2em;position: relative;}#sk-container-id-2 div.sk-item {position: relative;z-index: 1;}#sk-container-id-2 div.sk-parallel {display: flex;align-items: stretch;justify-content: center;background-color: white;position: relative;}#sk-container-id-2 div.sk-item::before, #sk-container-id-2 div.sk-parallel-item::before {content: \"\";position: absolute;border-left: 1px solid gray;box-sizing: border-box;top: 0;bottom: 0;left: 50%;z-index: -1;}#sk-container-id-2 div.sk-parallel-item {display: flex;flex-direction: column;z-index: 1;position: relative;background-color: white;}#sk-container-id-2 div.sk-parallel-item:first-child::after {align-self: flex-end;width: 50%;}#sk-container-id-2 div.sk-parallel-item:last-child::after {align-self: flex-start;width: 50%;}#sk-container-id-2 div.sk-parallel-item:only-child::after {width: 0;}#sk-container-id-2 div.sk-dashed-wrapped {border: 1px dashed gray;margin: 0 0.4em 0.5em 0.4em;box-sizing: border-box;padding-bottom: 0.4em;background-color: white;}#sk-container-id-2 div.sk-label label {font-family: monospace;font-weight: bold;display: inline-block;line-height: 1.2em;}#sk-container-id-2 div.sk-label-container {text-align: center;}#sk-container-id-2 div.sk-container {/* jupyter's `normalize.less` sets `[hidden] { display: none; }` but bootstrap.min.css set `[hidden] { display: none !important; }` so we also need the `!important` here to be able to override the default hidden behavior on the sphinx rendered scikit-learn.org. See: https://github.com/scikit-learn/scikit-learn/issues/21755 */display: inline-block !important;position: relative;}#sk-container-id-2 div.sk-text-repr-fallback {display: none;}</style><div id=\"sk-container-id-2\" class=\"sk-top-container\"><div class=\"sk-text-repr-fallback\"><pre>RandomForestRegressor(verbose=1)</pre><b>In a Jupyter environment, please rerun this cell to show the HTML representation or trust the notebook. <br />On GitHub, the HTML representation is unable to render, please try loading this page with nbviewer.org.</b></div><div class=\"sk-container\" hidden><div class=\"sk-item\"><div class=\"sk-estimator sk-toggleable\"><input class=\"sk-toggleable__control sk-hidden--visually\" id=\"sk-estimator-id-2\" type=\"checkbox\" checked><label for=\"sk-estimator-id-2\" class=\"sk-toggleable__label sk-toggleable__label-arrow\">RandomForestRegressor</label><div class=\"sk-toggleable__content\"><pre>RandomForestRegressor(verbose=1)</pre></div></div></div></div></div>"
      ],
      "text/plain": [
       "RandomForestRegressor(verbose=1)"
      ]
     },
     "execution_count": 71,
     "metadata": {},
     "output_type": "execute_result"
    }
   ],
   "source": [
    "# Train the predictive model\n",
    "model.fit(X_train, y_train)"
   ]
  },
  {
   "attachments": {},
   "cell_type": "markdown",
   "metadata": {},
   "source": [
    "## Model Evaluation"
   ]
  },
  {
   "cell_type": "code",
   "execution_count": 72,
   "metadata": {},
   "outputs": [
    {
     "name": "stderr",
     "output_type": "stream",
     "text": [
      "[Parallel(n_jobs=1)]: Using backend SequentialBackend with 1 concurrent workers.\n"
     ]
    },
    {
     "name": "stdout",
     "output_type": "stream",
     "text": [
      "Mean Squared Error: 670511793157.8562\n",
      "Mean Absolute Error: 193341.1757366865\n",
      "R-squared: 0.9900221975027258\n"
     ]
    },
    {
     "name": "stderr",
     "output_type": "stream",
     "text": [
      "[Parallel(n_jobs=1)]: Done 100 out of 100 | elapsed:    0.6s finished\n"
     ]
    }
   ],
   "source": [
    "# Evaluate the model\n",
    "y_pred = model.predict(X_test)\n",
    "mse = mean_squared_error(y_test, y_pred)\n",
    "mae = mean_absolute_error(y_test, y_pred)\n",
    "r2 = r2_score(y_test, y_pred)\n",
    "\n",
    "print(\"Mean Squared Error:\", mse)\n",
    "print(\"Mean Absolute Error:\", mae)\n",
    "print(\"R-squared:\", r2)\n"
   ]
  },
  {
   "attachments": {},
   "cell_type": "markdown",
   "metadata": {},
   "source": [
    "# Model Prediction"
   ]
  },
  {
   "cell_type": "code",
   "execution_count": 87,
   "metadata": {},
   "outputs": [
    {
     "name": "stdout",
     "output_type": "stream",
     "text": [
      "The Predicted views based on the given data is : 14194239\n"
     ]
    },
    {
     "name": "stderr",
     "output_type": "stream",
     "text": [
      "[Parallel(n_jobs=1)]: Using backend SequentialBackend with 1 concurrent workers.\n",
      "[Parallel(n_jobs=1)]: Done 100 out of 100 | elapsed:    0.0s finished\n"
     ]
    }
   ],
   "source": [
    "# Assuming new_publish_time_hour and new_publish_time_week are lists\n",
    "new_title = ['The perks of learning']\n",
    "new_description = ['Learning is an art which is an endless process']\n",
    "new_publish_time_hour = 20\n",
    "new_publish_time_week = 6\n",
    "likes = 1256783\n",
    "dislikes = 4378\n",
    "comments_count = 235\n",
    "category_id = 15\n",
    "\n",
    "new_title_bow = count_vectorizer.transform(new_title)\n",
    "new_description_bow = count_vectorizer.transform(new_description)\n",
    "new_title_tfidf = tfidf_vectorizer.transform(new_title)\n",
    "new_description_tfidf = tfidf_vectorizer.transform(new_description)\n",
    "\n",
    "# Create the new_numeric DataFrame\n",
    "new_numeric = pd.DataFrame({ 'publish_day_of_week':new_publish_time_week,'publish_hour_of_day':new_publish_time_hour,\n",
    "    'likes':likes,'dislikes':dislikes,'comment_count':comments_count,'category_id':category_id},index=[0])\n",
    "\n",
    "# Concatenate the sparse matrices and numeric DataFrame\n",
    "new_data = hstack((new_title_bow, new_description_bow, new_title_tfidf, new_description_tfidf, new_numeric.values))\n",
    "\n",
    "new_predictions = model.predict(new_data)\n",
    "print(\"The Predicted views based on the given data is :\", int(new_predictions[0]))"
   ]
  },
  {
   "attachments": {},
   "cell_type": "markdown",
   "metadata": {},
   "source": [
    "### Save the trained model"
   ]
  },
  {
   "cell_type": "code",
   "execution_count": 74,
   "metadata": {},
   "outputs": [],
   "source": [
    "import pickle\n",
    "\n",
    "# Assuming you have a trained model called 'model'\n",
    "with open('model.pkl', 'wb') as file:\n",
    "    pickle.dump(model, file)\n"
   ]
  },
  {
   "attachments": {},
   "cell_type": "markdown",
   "metadata": {},
   "source": [
    "# Azure ML training"
   ]
  },
  {
   "attachments": {},
   "cell_type": "markdown",
   "metadata": {},
   "source": [
    "## Connecting to  the workspace"
   ]
  },
  {
   "cell_type": "code",
   "execution_count": 75,
   "metadata": {},
   "outputs": [],
   "source": [
    "import azureml.core\n",
    "from azureml.core import Workspace, Experiment\n",
    "from azureml.core import Environment, ScriptRunConfig"
   ]
  },
  {
   "cell_type": "code",
   "execution_count": 76,
   "metadata": {},
   "outputs": [],
   "source": [
    "# read the credentials from the config.json\n",
    "with open('config.json') as f:\n",
    "    cred = json.load(f)"
   ]
  },
  {
   "cell_type": "code",
   "execution_count": null,
   "metadata": {},
   "outputs": [],
   "source": [
    "# Define your Azure ML workspace\n",
    "workspace = Workspace.get(name=cred['workspace_name'], subscription_id=cred['subscription_id'], resource_group=cred['resource_group'])\n",
    "\n",
    "# Create a new experiment\n",
    "experiment_name = 'random-forest-training'\n",
    "experiment = Experiment(workspace, experiment_name)\n",
    "\n",
    "# Define the training script\n",
    "script_path = 'train.py'\n",
    "\n",
    "# Create a Python environment for the script dependencies\n",
    "environment = Environment('my-env')\n",
    "environment.python.user_managed_dependencies = True\n",
    "\n",
    "# Create a script run configuration\n",
    "run_config = ScriptRunConfig(\n",
    "    source_directory='youtube-views',\n",
    "    script=script_path,\n",
    "    compute_target='ml-studio-compute',\n",
    "    environment=environment\n",
    ")\n",
    "\n",
    "# Submit the training experiment\n",
    "run = experiment.submit(run_config)\n",
    "\n",
    "print('Training experiment submitted successfully.')\n",
    "\n",
    "# Monitor the run's progress\n",
    "run.wait_for_completion(show_output=True)  # This will display the logs and progress\n",
    "\n",
    "# Get the run details\n",
    "run_details = run.get_details()\n",
    "\n",
    "# Access run properties\n",
    "run_properties = run.get_properties()\n",
    "\n",
    "# Access run metrics\n",
    "run_metrics = run.get_metrics()"
   ]
  }
 ],
 "metadata": {
  "kernelspec": {
   "display_name": "venv",
   "language": "python",
   "name": "python3"
  },
  "language_info": {
   "codemirror_mode": {
    "name": "ipython",
    "version": 3
   },
   "file_extension": ".py",
   "mimetype": "text/x-python",
   "name": "python",
   "nbconvert_exporter": "python",
   "pygments_lexer": "ipython3",
   "version": "3.10.6"
  },
  "orig_nbformat": 4
 },
 "nbformat": 4,
 "nbformat_minor": 2
}
